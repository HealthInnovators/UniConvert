{
  "nbformat": 4,
  "nbformat_minor": 0,
  "metadata": {
    "colab": {
      "provenance": []
    },
    "kernelspec": {
      "name": "python3",
      "display_name": "Python 3"
    },
    "language_info": {
      "name": "python"
    }
  },
  "cells": [
    {
      "cell_type": "code",
      "source": [
        "!pip install jsonformer"
      ],
      "metadata": {
        "colab": {
          "base_uri": "https://localhost:8080/"
        },
        "id": "aOL03YVwKlUt",
        "outputId": "1b73a64e-ffb9-4a20-f155-90ea1b6a3ea6"
      },
      "execution_count": null,
      "outputs": [
        {
          "output_type": "stream",
          "name": "stdout",
          "text": [
            "Collecting jsonformer\n",
            "  Downloading jsonformer-0.12.0-py3-none-any.whl (6.6 kB)\n",
            "Requirement already satisfied: termcolor<3.0.0,>=2.3.0 in /usr/local/lib/python3.10/dist-packages (from jsonformer) (2.4.0)\n",
            "Installing collected packages: jsonformer\n",
            "Successfully installed jsonformer-0.12.0\n"
          ]
        }
      ]
    },
    {
      "cell_type": "code",
      "execution_count": null,
      "metadata": {
        "colab": {
          "base_uri": "https://localhost:8080/"
        },
        "id": "Ywcip795HxeH",
        "outputId": "0d6c5315-aae2-47c5-b647-b9b6c5f49949"
      },
      "outputs": [
        {
          "output_type": "stream",
          "name": "stdout",
          "text": [
            "Skipping invalid line: 1            Alice Johnson   35     Hypertension\n",
            "\n",
            "Skipping invalid line: 2            Bob Smith       42     Diabetes\n",
            "\n",
            "Skipping invalid line: 3            Carol Lee       28     Migraine\n",
            "\n",
            "Skipping invalid line: 4            David Brown     50     Arthritis\n",
            "{\n",
            "    \"patients\": []\n",
            "}\n",
            "{'PatientID': '1', 'Name': 'Disease', 'Age': 0.5, 'Diagnosis': 'Disease'}\n"
          ]
        }
      ],
      "source": [
        "import json\n",
        "import jsonformer\n",
        "from jsonformer import Jsonformer\n",
        "from transformers import AutoModelForCausalLM, AutoTokenizer\n",
        "\n",
        "# Load a pre-trained language model (e.g., GPT-2)\n",
        "model = AutoModelForCausalLM.from_pretrained(\"gpt2\")\n",
        "tokenizer = AutoTokenizer.from_pretrained(\"gpt2\")\n",
        "\n",
        "# Define the JSON schema\n",
        "json_schema = {\n",
        "    \"type\": \"object\",\n",
        "    \"properties\": {\n",
        "        \"PatientID\": { \"type\": \"string\" },\n",
        "        \"Name\": { \"type\": \"string\" },\n",
        "        \"Age\": { \"type\": \"number\" },\n",
        "        \"Diagnosis\": { \"type\": \"string\" }\n",
        "    }\n",
        "}\n",
        "\n",
        "# Read data from the input text file\n",
        "input_file = \"/content/patients.txt\"\n",
        "patients_data = []\n",
        "\n",
        "with open(input_file, \"r\") as file:\n",
        "    # Skip the header line (assuming the first line contains column names)\n",
        "    next(file)\n",
        "    for line in file:\n",
        "        patient_info = line.strip().split(\"\\t\")\n",
        "        if len(patient_info) == 4:\n",
        "            patient_id, name, age, diagnosis = patient_info\n",
        "            patients_data.append({\n",
        "                \"PatientID\": int(patient_id),\n",
        "                \"Name\": name,\n",
        "                \"Age\": int(age),\n",
        "                \"Diagnosis\": diagnosis\n",
        "            })\n",
        "        else:\n",
        "            print(f\"Skipping invalid line: {line}\")\n",
        "\n",
        "            # Create the JSON object\n",
        "patient_json = {\"patients\": patients_data}\n",
        "\n",
        "# Print the generated JSON\n",
        "print(json.dumps(patient_json, indent=4))\n",
        "\n",
        "# Define a prompt (optional but helps guide the model)\n",
        "prompt = \"Generate patient information based on the following schema:\"\n",
        "\n",
        "# Initialize the Jsonformer\n",
        "jsonformer = Jsonformer(model, tokenizer, json_schema, prompt)\n",
        "\n",
        "# Generate structured patient data\n",
        "generated_data = jsonformer()\n",
        "\n",
        "# Print the JSON output\n",
        "print(generated_data)"
      ]
    }
  ]
}